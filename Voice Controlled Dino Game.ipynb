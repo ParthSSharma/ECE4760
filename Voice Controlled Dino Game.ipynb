{
 "cells": [
  {
   "cell_type": "markdown",
   "id": "loved-novel",
   "metadata": {},
   "source": [
    "# Voice Controlled Dino Game\n",
    "\n",
    "#### Cornell University\n",
    "ECE 4760 Final Project\n",
    "#### Authors:\n",
    "\n",
    "- Parth Sarthi Sharma (pss242)\n",
    "- Shreyas Patil (sp2544)\n",
    "\n",
    "As a part of the final project for ECE 4760: Digital Systems Design Using Microcontrollers, we worked on a voice controlled version of the Google Dino game on the PIC32 microcontroller. The microcontroller we used is a PIC32MX250F128B microcontroller on the SECABB development board.\n",
    "\n",
    "> - [Introduction](#Introduction)\n",
    "> - [High Level Design](#High-Level-Design)\n",
    "> - [Hardware Design](#Hardware-Design)\n",
    "> - [Software Design](#Software-Design)\n",
    "> > - [Week 1](#Week-1)\n",
    "> > - [Week 2](#Week-2)\n",
    "> > - [Week 3](#Week-3)\n",
    "> > - [Week 4](#Week-4)\n",
    "> - [Results](#Results)\n",
    "> - [Conclusion](#Conclusion)\n",
    "> - [Appendix](#Appendix)\n",
    "> > - [Appendix A](#Appendix-A:-Permissions)\n",
    "> > - [Appendix B](#Appendix-B:-Code-Listing)\n",
    "> > - [Appendix C](#Appendix-C:-Circuit-Schematics)\n",
    "> > - [Appendix D](#Appendix-D:-Bill-of-Material)\n",
    "> > - [Appendix E](#Appendix-E:-Distribution-of-Work)\n",
    "> > - [Appendix F](#Appendix-F:-References)\n",
    "\n",
    "---"
   ]
  },
  {
   "cell_type": "markdown",
   "id": "herbal-amplifier",
   "metadata": {},
   "source": [
    "<div style=\"display: flex; justify-content: center;\">\n",
    "    <iframe width=\"560\" height=\"315\" src=\"https://www.youtube.com/embed/O5_BQlLSv90\" title=\"YouTube video player\" frameborder=\"0\" allow=\"accelerometer; autoplay; clipboard-write; encrypted-media; gyroscope; picture-in-picture\" allowfullscreen>\n",
    "    </iframe>\n",
    "</div>\n",
    "\n",
    "---"
   ]
  },
  {
   "cell_type": "markdown",
   "id": "limiting-house",
   "metadata": {},
   "source": [
    "## Introduction\n",
    "\n",
    "We have all been in a situation where we didn’t have access to the internet and to pass time we started playing the Google Dino game. However, the game tends to get a little monotonous with all the key presses and the biggest fear is that if we regain the internet connection, we might lose the progress, especially if we are about to beat a high score. Therefore, for our final project, we wanted to create our own version of the Dino game using the PIC32 microcontroller and the TFT screen which can be controlled with our voice. That way, we could play the game any time we wanted without the fear of losing progress by regaining the internet connection.\n",
    "\n",
    "---"
   ]
  },
  {
   "cell_type": "markdown",
   "id": "motivated-semiconductor",
   "metadata": {},
   "source": [
    "## High Level Design\n",
    "\n",
    "The game begins with a start screen with very minimal text saying `Press Start!`. Once the start button is pressed, the screen updates and the game starts. The game is fairly straightforward with a dino player running. The main task of the game is to keep jumping over obstacles (cactii) and not die. As long as the player is alive, the game keeps on running and generating newer obstacles.\n",
    "\n",
    "In order to control the dino, the user can use the `Jump` button which updates the `y-velocity` of the dino and makes it jump. Once the dino has jumped, the gravity acts on it and its velocity changes each frame. Once the diono hits the ground again, the velocity is reset to 0. Whistling into the microphone can also make the dino jump. Once the dino passes an obstacle, the score is incremented.\n",
    "\n",
    "If the player fails to make the dino jump and it hits an obstacle, the dino dies and the game over screen is displayed along with the score and high score. In order to start the game again, the user needs to press the `Restart` button on the GUI.\n",
    "\n",
    "The basic flow diagram of the system is shown below. _Note: There is an additional ISR which is not a part of the flow diagram but is a part of the main program._"
   ]
  },
  {
   "cell_type": "markdown",
   "id": "decimal-function",
   "metadata": {},
   "source": [
    "<div style=\"display: flex; justify-content: center;\">\n",
    "  <img src=\"Flowchart.png\" style=\"width: 1100px; height: 598px;\" >\n",
    "</div>\n",
    "<figure>\n",
    "    <center><figcaption>The Flowchart of the Game</figcaption></center>\n",
    "</figure>"
   ]
  },
  {
   "cell_type": "markdown",
   "id": "separated-deficit",
   "metadata": {},
   "source": [
    "#### Nyquist criteria\n",
    "\n",
    "Sound is a continuous signal. In order to input this continuous signal to the microcontroller, we sample it using the ADC. The rate at which we sample the sound determines the range of frequencies we can recover. The Nyquist–Shannon sampling theorem says that the faster we sample the input signal at, the higher the range of the frequencies we can recover. The basic thing to consider while sampling the signal is: $f_{s} \\geq 2 \\times f_{highest}$\n",
    "\n",
    "Where $f_{s}$ is the sampling frequency and $f_{highest}$ is the highest frequency, we need to recover. In our project, we used this relation to calculate the frequency at which the timer should interrupt the flow of the program in order to read the audio input to recover the whistle sound."
   ]
  },
  {
   "cell_type": "markdown",
   "id": "through-contact",
   "metadata": {},
   "source": [
    "#### Fast Fourier Transform\n",
    "\n",
    "Once the audio signal is sampled and broken into N discrete time points, we need to use the Discrete Time Fourier Transform to convert the signal into a discrete number of N frequency signals. The DTFT takes in a real valued argument and an imaginary valued argument. Since we are dealing with sound signals, we only need to concern ourselves with the real valued argument. The discrete-time Fourier transform of a discrete sequence of real or complex numbers x[n], for all integers n, is a Fourier series, which produces a periodic function of a frequency variable. When the frequency variable, ω, has normalized units of radians/sample, the periodicity is 2π, and the Fourier series is:\n",
    "\n",
    "$X_{2\\pi}(\\omega) = \\sum\\limits_{n=-\\infty}^{\\infty} x[n]e^{-i\\omega n}$\n",
    "\n",
    "In order to compute the DTFT, we use what is called a Fast Fourier Transform. This algorithm allowed us to calculate the DTFT of our sound quite efficiently without using much of our CPU time. A point to remember is that we had to use fixed point arithmetic in order to make our calculations faster as floating-point arithmetic is quite CPU intensive and slow."
   ]
  },
  {
   "cell_type": "markdown",
   "id": "ethical-cleaner",
   "metadata": {},
   "source": [
    "#### Hann Window\n",
    "\n",
    "When we compute the FFT of a particular segment of the sound signal, the algorithm assumes that the input to it is a periodic sound signal. In case of a periodic sound signal, the signal would be continuous over the entire time domain. However, our signal is not periodic, and thus, if we apply a fast Fourier transform on it, then we would get sharp high frequency components in our frequency domain. To avoid this, we used a windowing function which would smooth out the signal between different segments. In our case, each segment consisted of 512 samples.\n",
    "\n",
    "There are various window functions available to choose from. We chose to use the Hann window, which is a cosine-based window function. When we apply a window function, we basically divide the window into the number of samples in our segment, and then multiply every nth sample of the audio signal with the nth sample in the window function. The equation of the Hann window is given below, where N is the total samples in each segment (512 in our case).\n",
    "\n",
    "$w[n] = [1 - cos(\\frac{2\\pi n}{N})]$\n",
    "\n",
    "The effect of the window on the audio signal can be seen from the graphs as depicted below."
   ]
  },
  {
   "cell_type": "markdown",
   "id": "steady-forum",
   "metadata": {},
   "source": [
    "<div style=\"display: flex; justify-content: center;\">\n",
    "  <img src=\"HannInput.png\" style=\"width: 721px; height: 224px;\" >\n",
    "</div>\n",
    "<figure>\n",
    "    <center><figcaption>Input to the Hann window</figcaption></center>\n",
    "</figure>"
   ]
  },
  {
   "cell_type": "markdown",
   "id": "peaceful-essex",
   "metadata": {},
   "source": [
    "<div style=\"display: flex; justify-content: center;\">\n",
    "  <img src=\"HannWindow.png\" style=\"width: 721px; height: 224px;\" >\n",
    "</div>\n",
    "<figure>\n",
    "    <center><figcaption>The Hann window</figcaption></center>\n",
    "</figure>"
   ]
  },
  {
   "cell_type": "markdown",
   "id": "preliminary-method",
   "metadata": {},
   "source": [
    "<div style=\"display: flex; justify-content: center;\">\n",
    "  <img src=\"HannOutput.png\" style=\"width: 721px; height: 224px;\" >\n",
    "</div>\n",
    "<figure>\n",
    "    <center><figcaption>Output of the Hann window</figcaption></center>\n",
    "</figure>"
   ]
  },
  {
   "cell_type": "markdown",
   "id": "successful-foster",
   "metadata": {},
   "source": [
    "#### Alpha Max Beta Min Algorithm\n",
    "\n",
    "The output of the FFT algorithm are two arrays (one with real and the other with imaginary values). In order to compute their magnitude, we need to find the root of sum of squares of the respective values. However, as we have established before, the square root is quite a resource intensive operation and takes a long time to compute. In order to find a rough approximation of the magnitude, we use the Alpha Max Beta Min algorithm which says that for two numbers a and b, the root of the sum of their squares is given as: $|z| = max(a, b) + 0.4 \\times min(a, b)$"
   ]
  },
  {
   "cell_type": "markdown",
   "id": "possible-robinson",
   "metadata": {},
   "source": [
    "#### Fixed Point Arithmetic\n",
    "\n",
    "Now, we know that we need to keep our frame rate fixed at 30 fps which is quite hard to achieve as we increase the sample rate and compute the FFT for every 512 samples. We know that the most computationally expensive part of the code is the mathematical computations of the FFT as it is all sorts of addition, multiplication, division etc. of floating-point numbers which takes a really long time to execute. Instead, what we can do to make the computation faster is convert them from floating-point to fixed-point and compute them. The table below shows a comparison of the number of clock cycles it takes to compute the specific operations in fixed and floating-type numbers.\n",
    "\n",
    "| Cycles / Operation | fix16 | \\_Accum | float |\n",
    "| :-: | :-: | :-: | :-: |\n",
    "| Add | 5 | 2 | ~60 |\n",
    "| Multiply | 21 | 28 | ~55 |\n",
    "| Divide | ~145 | ~145 | ~140 |\n",
    "| DSP-MAC | 21 | 29 | ~110 |\n",
    "\n",
    "---"
   ]
  },
  {
   "cell_type": "markdown",
   "id": "compound-prospect",
   "metadata": {},
   "source": [
    "## Hardware Design\n",
    "\n",
    "The hardware for the project consists of a PIC32MX250F128B microcontroller setup on a development board (called SECABB). It is connected to the remote desktop via a serial debugger which is used to program the microcontroller and for UART communication between the microcontroller and the GUI."
   ]
  },
  {
   "cell_type": "markdown",
   "id": "czech-conversation",
   "metadata": {},
   "source": [
    "<div style=\"display: flex; justify-content: center;\">\n",
    "  <img src=\"RemoteLearningBoard.png\" style=\"width: 800px; height: 471px;\" >\n",
    "</div>\n",
    "<figure>\n",
    "    <center><figcaption>PCB layout of the remote learning board</figcaption></center>\n",
    "</figure>"
   ]
  },
  {
   "cell_type": "markdown",
   "id": "twelve-climate",
   "metadata": {},
   "source": [
    "#### Audio\n",
    "\n",
    "For audio input, we used the built-in analog to digital converter in the PIC32 microcontroller. The ADC has a 10-bit resolution, which means that the 0-3.3V input audio signal amplitude will be resolved into 1024 different values, which means that the microcontroller will read the audio signal with a 3.2mV resolution. The pin we are using to read the ADC input is AN11. The input analog signal is passed onto a sample and hold signal, and at the sampling frequency set, the sample and hold signal converts the analog value to a 10bit digital value and places it in the ADC1BUF0. We then fetch this value from this register and compute FFT once we have 512 values. In our audio sample, there will be a DC noise present. To filter this out, we connected a basic RC high pass filter at the input of the ADC. The filter consists of a 1uF capacitor, and a 10k resistor in the configuration shown in the circuit diagram below. This gives us a cutoff frequency of about 16 Hz.  Also, since our input will be -2V to 2V, we also apply a bias at the input of the ADC to shift our signal up by 1.65V."
   ]
  },
  {
   "cell_type": "markdown",
   "id": "graduate-northern",
   "metadata": {},
   "source": [
    "<div style=\"display: flex; justify-content: center;\">\n",
    "  <img src=\"RCFilter.png\" style=\"width: 400px; height: 344px;\" >\n",
    "</div>\n",
    "<figure>\n",
    "    <center><figcaption>The RC filter connected to the ADC</figcaption></center>\n",
    "</figure>"
   ]
  },
  {
   "cell_type": "markdown",
   "id": "moving-provision",
   "metadata": {},
   "source": [
    "For audio output, we used a Digital to Analog Converter (DAC) which is communicates with the PIC microcontroller using the SPI communication. The DAC output is also connected to an audio jack which goes back into the remote desktop in order to listen to the generated output. The circuit schematic and the PCB layout can be seen below."
   ]
  },
  {
   "cell_type": "markdown",
   "id": "welcome-basketball",
   "metadata": {},
   "source": [
    "<div style=\"display: flex; justify-content: center;\">\n",
    "  <img src=\"audiojackanddac.png\" style=\"width: 742px; height: 500px;\" >\n",
    "</div>\n",
    "<figure>\n",
    "    <center><figcaption>Schematics of the DAC and audio jack</figcaption></center>\n",
    "</figure>"
   ]
  },
  {
   "cell_type": "markdown",
   "id": "hindu-heart",
   "metadata": {},
   "source": [
    "#### Video\n",
    "\n",
    "The SECABB has a TFT LCD display attached to it which can be used to display output from the PIC32. The TFT display PCB layout that is used is shown in the images below. The LCD we are using is a 320x240 color LCD with 16-bit color specification. It uses SPI communication from PIC32 to display whatever we want to display using a graphics library ported to PIC32."
   ]
  },
  {
   "cell_type": "markdown",
   "id": "prescription-trace",
   "metadata": {},
   "source": [
    "<div style=\"display: flex; justify-content: center;\">\n",
    "  <img src=\"TFTLayout.png\" style=\"width: 742px; height: 500px;\" >\n",
    "</div>\n",
    "<figure>\n",
    "    <center><figcaption>Layout for TFT to be attached</figcaption></center>\n",
    "</figure>\n",
    "\n",
    "---"
   ]
  },
  {
   "cell_type": "markdown",
   "id": "union-description",
   "metadata": {},
   "source": [
    "## Software Design\n",
    "\n",
    "Our software design is inspired by the first three labs we performed for the course ECE 4760. The sound generation was inspired from the first lab, the video output was inspired by the second lab and the audio input was inspired by the third lab. Moreover, we also implemented some additional features like DMA and optimized a function in the in-build TFT graphic library.\n",
    "\n",
    "We feel it is best if we explain the software design in a chronological manner in the form of our weekly reports."
   ]
  },
  {
   "cell_type": "markdown",
   "id": "directed-ocean",
   "metadata": {},
   "source": [
    "### Week 1\n",
    "\n",
    "During week 1 of the project, we setup a basic program to display a moving ground frame on the TFT screen attached to the PIC microcontroller. In order to so, we have used the time sharing threading algorithm called `protothreads`."
   ]
  },
  {
   "cell_type": "markdown",
   "id": "hazardous-atmosphere",
   "metadata": {},
   "source": [
    "In order to create the running ground, we used a simple trick of moving some streaks of white color to the left with each passing frame. Each streak of the ground is a `struct` stored in an array of grounds. It is implemented as below:"
   ]
  },
  {
   "cell_type": "markdown",
   "id": "pleasant-cornell",
   "metadata": {},
   "source": [
    "```c\n",
    "#define GROUND_SIZE 10\n",
    "struct Ground{\n",
    "    int x, y, w;\n",
    "};\n",
    "struct Ground ground[GROUND_SIZE];\n",
    "```\n",
    "<br>"
   ]
  },
  {
   "cell_type": "markdown",
   "id": "reduced-liquid",
   "metadata": {},
   "source": [
    "In order to first initialize all the elements of the array, we loop through the array and randomize the x-coordinate, the y-coordinate and the width of the ground. To do so, we use an inline random function as implemented below:"
   ]
  },
  {
   "cell_type": "markdown",
   "id": "earlier-metadata",
   "metadata": {},
   "source": [
    "```c\n",
    "inline int randomRange(int min, int max){\n",
    "    return (rand() % (max - min)) + min;\n",
    "}\n",
    "```\n",
    "\n",
    "<br>"
   ]
  },
  {
   "cell_type": "markdown",
   "id": "juvenile-theory",
   "metadata": {},
   "source": [
    "This random function takes in two arguments: a lower limit and an upper limit. It returns an integer between the said limits. Now that we had the `randomRange` function, we implemented a `for` loop to initialize all the parameters in `main` as below:"
   ]
  },
  {
   "cell_type": "markdown",
   "id": "moved-spirit",
   "metadata": {},
   "source": [
    "```c\n",
    "for(i = 0; i < GROUND_SIZE; i++){\n",
    "    ground[i].x = randomRange(0, WIDTH);\n",
    "    ground[i].y = randomRange(HEIGHT - GROUND_HEIGHT + 10, HEIGHT);\n",
    "    ground[i].w = randomRange(3, 10);\n",
    "}\n",
    "```\n",
    "\n",
    "<br>"
   ]
  },
  {
   "cell_type": "markdown",
   "id": "dutch-coordinate",
   "metadata": {},
   "source": [
    "Now that we had an initialized array of streaks on the ground, we needed to update it for every iteration. It was done so by following a simple algorithm:\n",
    "- Loop through each element in the ground array\n",
    "- Update the x-coordinate of the element based on the speed\n",
    "- If an element has reached the left-most edge, reset its parameters\n",
    "\n",
    "This algorithm has been implemented as below:"
   ]
  },
  {
   "cell_type": "markdown",
   "id": "critical-sacrifice",
   "metadata": {},
   "source": [
    "```c\n",
    "for(i = 0; i < GROUND_SIZE; i++){\n",
    "    ground[i].x -= SPEED;\n",
    "    if(ground[i].x + ground[i].w <= 0){\n",
    "        ground[i].x = WIDTH;\n",
    "        ground[i].y = randomRange(HEIGHT - GROUND_HEIGHT + 10, HEIGHT);\n",
    "        ground[i].w = randomRange(3, 10);\n",
    "    }\n",
    "}\n",
    "```\n",
    "\n",
    "<br>"
   ]
  },
  {
   "cell_type": "markdown",
   "id": "electronic-enemy",
   "metadata": {},
   "source": [
    "The output obtained by running the code at the end of week 1 is shown below."
   ]
  },
  {
   "cell_type": "markdown",
   "id": "formal-dubai",
   "metadata": {},
   "source": [
    "<div style=\"display: flex; justify-content: center;\">\n",
    "  <img src=\"Week1Ground.jfif\" style=\"width: 446px; height: 273px;\" >\n",
    "</div>\n",
    "<figure>\n",
    "    <center><figcaption>The Moving Ground Frame</figcaption></center>\n",
    "</figure>"
   ]
  },
  {
   "cell_type": "markdown",
   "id": "organized-combine",
   "metadata": {},
   "source": [
    "### Week 2\n",
    "\n",
    "During week 2 of the project, we added some moving obstacles and the dino in the form of some boxes. We then created a Python GUI to interact with the game. The GUI has 3 buttons:\n",
    "- Start button to start the game\n",
    "- Jump button to make the dino jump\n",
    "- Restart button to restart the game in case the dino dies\n",
    "\n",
    "We also used the GUI for debugging purposes.\n",
    "\n",
    "Once we had our GUI ready, we implemented the jump as well as the collision logic in our code. Once it was up and running, we implemented the voice control feature using ADC input and FFT algorithm."
   ]
  },
  {
   "cell_type": "markdown",
   "id": "rocky-leader",
   "metadata": {},
   "source": [
    "The code was implemented in various phases as described below."
   ]
  },
  {
   "cell_type": "markdown",
   "id": "fresh-antigua",
   "metadata": {},
   "source": [
    "#### Implementing the Obstacles\n",
    "\n",
    "Just like with implementing the ground, we implemented the obstacles using a `struct`. However, there is a catch. The ground was implemeted using an array while we only used single variable to implement the obstacle (and reuse it to bring in the next obstacle). We also used a new variable called `obsType` to keep a track of the type of obstacle (we have 3 different types based on their width and height)."
   ]
  },
  {
   "cell_type": "markdown",
   "id": "killing-canberra",
   "metadata": {},
   "source": [
    "```c\n",
    "#define OBS_W_0 10\n",
    "#define OBS_H_0 20\n",
    "#define OBS_W_1 15\n",
    "#define OBS_H_1 30\n",
    "#define OBS_W_2 30\n",
    "#define OBS_H_2 20\n",
    "\n",
    "int obsType;\n",
    "\n",
    "struct Obstacle{\n",
    "    int x, w, h;\n",
    "};\n",
    "struct Obstacle obstacle;\n",
    "```\n",
    "\n",
    "<br>"
   ]
  },
  {
   "cell_type": "markdown",
   "id": "intended-laptop",
   "metadata": {},
   "source": [
    "We initialized the obstacle in main as below:"
   ]
  },
  {
   "cell_type": "markdown",
   "id": "adolescent-margin",
   "metadata": {},
   "source": [
    "```c\n",
    "obsType = randomRange(0, 3);\n",
    "obstacle.x = WIDTH;\n",
    "if(obsType == 0){\n",
    "    obstacle.w = OBS_W_0;\n",
    "    obstacle.h = OBS_H_0;\n",
    "}\n",
    "else if(obsType == 1){\n",
    "    obstacle.w = OBS_W_1;\n",
    "    obstacle.h = OBS_H_1;\n",
    "}\n",
    "else{\n",
    "    obstacle.w = OBS_W_2;\n",
    "    obstacle.h = OBS_H_2;\n",
    "}\n",
    "```\n",
    "\n",
    "<br>"
   ]
  },
  {
   "cell_type": "markdown",
   "id": "prescribed-thermal",
   "metadata": {},
   "source": [
    "Now that we had initialized the obstacle, we needed to update it for every iteration. It was done so by following a simple algorithm:\n",
    "- Update the x-coordinate of the obstacle based on the speed\n",
    "- If the obstacle has reached the left-most edge, reset its parameters\n",
    "\n",
    "This algorithm has been implemented as below:"
   ]
  },
  {
   "cell_type": "markdown",
   "id": "equivalent-daisy",
   "metadata": {},
   "source": [
    "```c\n",
    "tft_fillRect(obstacle.x, (HEIGHT - GROUND_HEIGHT - ((obstacle.h / 2))), obstacle.w, obstacle.h, ILI9340_BLACK);\n",
    "\n",
    "obstacle.x -= SPEED;\n",
    "if(obstacle.x + obstacle.w < 0){\n",
    "    obsType = randomRange(0, 3);\n",
    "    obstacle.x = WIDTH + randomRange(0, 50);\n",
    "    switch(obsType){\n",
    "        case 0: obstacle.w = OBS_W_0;\n",
    "                obstacle.h = OBS_H_0;\n",
    "                break;\n",
    "        case 1: obstacle.w = OBS_W_1;\n",
    "                obstacle.h = OBS_H_1;\n",
    "                break;\n",
    "        case 2: obstacle.w = OBS_W_2;\n",
    "                obstacle.h = OBS_H_2;\n",
    "                break;\n",
    "    }\n",
    "}\n",
    "\n",
    "tft_fillRect(obstacle.x, (HEIGHT - GROUND_HEIGHT - ((obstacle.h / 2))), obstacle.w, obstacle.h, HARD_COLOR); \n",
    "```\n",
    "\n",
    "<br>"
   ]
  },
  {
   "cell_type": "markdown",
   "id": "norwegian-burke",
   "metadata": {},
   "source": [
    "The output obtained after running this code is given below."
   ]
  },
  {
   "cell_type": "markdown",
   "id": "republican-johnson",
   "metadata": {},
   "source": [
    "<div style=\"display: flex; justify-content: center;\">\n",
    "  <img src=\"Week2Obstacle.jfif\" style=\"width: 446px; height: 273px;\" >\n",
    "</div>\n",
    "<figure>\n",
    "    <center><figcaption>The Moving Obstacle Frame</figcaption></center>\n",
    "</figure>"
   ]
  },
  {
   "cell_type": "markdown",
   "id": "sunset-commission",
   "metadata": {},
   "source": [
    "#### Implementing the Dino\n",
    "\n",
    "Now that we had implemented the obstacle, we had to implement the Dino. Just like with implementing the obstacke, we implemented the dino using a `struct`. The dino is a little different from the ground and obstacles. Its x-coordinate is to remain constant and the y-coordinate is to change. It also needs to have a flag in order to keep track of whether the dino is alive or dead and a parameter to keep track of its velocity when it jumps. It is implemented as below."
   ]
  },
  {
   "cell_type": "markdown",
   "id": "rising-sodium",
   "metadata": {},
   "source": [
    "```c\n",
    "struct Player{\n",
    "    int x, y, w, h, vy;\n",
    "    int alive;\n",
    "};\n",
    "struct Player myPlayer;\n",
    "```\n",
    "\n",
    "<br>"
   ]
  },
  {
   "cell_type": "markdown",
   "id": "optical-blind",
   "metadata": {},
   "source": [
    "We initialized the dino (`myPlayer`) in main as below."
   ]
  },
  {
   "cell_type": "markdown",
   "id": "sunrise-suggestion",
   "metadata": {},
   "source": [
    "```c\n",
    "myPlayer.x = 30;\n",
    "myPlayer.y = 0;\n",
    "myPlayer.w = 22;\n",
    "myPlayer.h = 25;\n",
    "myPlayer.vy = 0;\n",
    "myPlayer.alive = 1;\n",
    "```\n",
    "\n",
    "<br>"
   ]
  },
  {
   "cell_type": "markdown",
   "id": "tight-japanese",
   "metadata": {},
   "source": [
    "Now that we had initialized the dino, we needed to update it for every iteration. It was done so by simply clearing old position of the dino and drawing the new position. The jump logic was implemented later on."
   ]
  },
  {
   "cell_type": "markdown",
   "id": "executed-relationship",
   "metadata": {},
   "source": [
    "```c\n",
    "tft_fillRect(myPlayer.x, (HEIGHT - GROUND_HEIGHT - (myPlayer.y + (myPlayer.h / 2))), myPlayer.w, myPlayer.h, ILI9340_BLACK);\n",
    "tft_fillRect(myPlayer.x, (HEIGHT - GROUND_HEIGHT - (myPlayer.y + (myPlayer.h / 2))), myPlayer.w, myPlayer.h, SOFT_COLOR);\n",
    "```\n",
    "\n",
    "<br>"
   ]
  },
  {
   "cell_type": "markdown",
   "id": "structural-aviation",
   "metadata": {},
   "source": [
    "The output obtained after running this code is given below."
   ]
  },
  {
   "cell_type": "markdown",
   "id": "about-future",
   "metadata": {},
   "source": [
    "<div style=\"display: flex; justify-content: center;\">\n",
    "  <img src=\"Week2Dino.jfif\" style=\"width: 446px; height: 273px;\" >\n",
    "</div>\n",
    "<figure>\n",
    "    <center><figcaption>Implementation of the Dino</figcaption></center>\n",
    "</figure>"
   ]
  },
  {
   "cell_type": "markdown",
   "id": "identical-assessment",
   "metadata": {},
   "source": [
    "#### Implementing the GUI\n",
    "\n",
    "In order to create the GUI, we used the [sample code](https://people.ece.cornell.edu/land/courses/ece4760/PIC32/remote/target4/pic_target_4a.txt) provided by Prof. Bruce Land for the Lab 0 of ECE 4760 course and modified it in order to create our GUI. In particular, we changed the `layout` list to add 3 buttons to be used. We also had to bind the corrosponding `ButtonRelease` functionality."
   ]
  },
  {
   "cell_type": "markdown",
   "id": "weekly-scout",
   "metadata": {},
   "source": [
    "```python\n",
    "layout = [[sg.RealtimeButton('START!', key = 'pushbut01', font = 'Helvetica 12'),\n",
    "           sg.RealtimeButton('JUMP!', key = 'pushbut02', font = 'Helvetica 12'),\n",
    "           sg.RealtimeButton('RESTART!', key = 'pushbut03', font = 'Helvetica 12')],\n",
    "            \n",
    "          [sg.Text('Serial data to PIC', background_color = heading_color)],\n",
    "          [sg.InputText('', size = (40, 10), key = 'pic_input', do_not_clear = False, enable_events = False, focus = True),\n",
    "           sg.Button('Send', key = 'pic_send', font = 'Helvetica 12')],\n",
    "           \n",
    "          [sg.Text('Serial data from PIC', background_color = heading_color)],\n",
    "          [sg.Multiline('', size = (50, 10), key = 'console', autoscroll = True, enable_events = False)],\n",
    "          \n",
    "          [sg.Text('System Controls', background_color = heading_color)],\n",
    "          [sg.Button('Exit', font = 'Helvetica 12')],\n",
    "          [sg.Checkbox('reset_enable', key = 'r_en', font = 'Helvetica 8', enable_events = True),\n",
    "           sg.Button('RESET PIC', key = 'rtg', font = 'Helvetica 8')\n",
    "         ]]\n",
    "\n",
    "window['pushbut01'].bind('<ButtonRelease-1>', 'r')\n",
    "window['pushbut02'].bind('<ButtonRelease-1>', 'r')\n",
    "window['pushbut03'].bind('<ButtonRelease-1>', 'r')\n",
    "```\n",
    "\n",
    "<br>"
   ]
  },
  {
   "cell_type": "markdown",
   "id": "indirect-vision",
   "metadata": {},
   "source": [
    "The generated GUI looks as shown below."
   ]
  },
  {
   "cell_type": "markdown",
   "id": "civic-zambia",
   "metadata": {},
   "source": [
    "<div style=\"display: flex; justify-content: center;\">\n",
    "  <img src=\"Week2GUI.png\" style=\"width: 450px; height: 477px;\" >\n",
    "</div>\n",
    "<figure>\n",
    "    <center><figcaption>The Python GUI</figcaption></center>\n",
    "</figure>"
   ]
  },
  {
   "cell_type": "markdown",
   "id": "bearing-sister",
   "metadata": {},
   "source": [
    "#### Implementing the Jump Algorithm\n",
    "\n",
    "Now that we had created the GUI, we started working on the implementing the jump algorithm. In order to do so, we defined the gravity and the initial velocity at which it jumped. Then for every iteration, we changed the velocity based on gravity and changed the y-coordinate based on the velocity.\n",
    "\n",
    "In order implement the jump algorithm, we added a new `protothread` to serially communicate with the Python GUI. When we press the jump button, we simply change the dino velocity to a predefined velocity and increment the y-coordinate by 1. It has been implemented as below.\n",
    "\n",
    "_Note: We also implemented the `Start` functionality to prevent the game from starting before the user is ready to play. It was quite simple to do, using the `startGame` flag._ "
   ]
  },
  {
   "cell_type": "markdown",
   "id": "widespread-offset",
   "metadata": {},
   "source": [
    "```c\n",
    "#define GRAVITY 1.2\n",
    "#define JUM_VEL 15\n",
    "\n",
    "char startGame = 0;\n",
    "char newButton = 0;\n",
    "char buttonID, buttonValue;\n",
    "```\n",
    "\n",
    "<br>"
   ]
  },
  {
   "cell_type": "markdown",
   "id": "logical-emphasis",
   "metadata": {},
   "source": [
    "We initialized the start screen to display `Press Start` in the main as below."
   ]
  },
  {
   "cell_type": "markdown",
   "id": "tight-poland",
   "metadata": {},
   "source": [
    "```c\n",
    "tft_setTextSize(4);\n",
    "tft_setTextColor(SOFT_COLOR);\n",
    "tft_setCursor(25, 100);\n",
    "tft_writeString(\"Press Start!\");\n",
    "```\n",
    "\n",
    "<br>"
   ]
  },
  {
   "cell_type": "markdown",
   "id": "major-johns",
   "metadata": {},
   "source": [
    "The start screen looks as shown below."
   ]
  },
  {
   "cell_type": "markdown",
   "id": "extra-consensus",
   "metadata": {},
   "source": [
    "<div style=\"display: flex; justify-content: center;\">\n",
    "  <img src=\"Week2StartScreen.jfif\" style=\"width: 446px; height: 273px;\" >\n",
    "</div>\n",
    "<figure>\n",
    "    <center><figcaption>The Start Screen</figcaption></center>\n",
    "</figure>"
   ]
  },
  {
   "cell_type": "markdown",
   "id": "loved-passport",
   "metadata": {},
   "source": [
    "Now that we had our start screen ready, we added a `protothread` to detect for `start` button press and start the game if the button is pressed. It was implemented as shown below."
   ]
  },
  {
   "cell_type": "markdown",
   "id": "fewer-dubai",
   "metadata": {},
   "source": [
    "```c\n",
    "if(buttonID == 1 && buttonValue == 1 && startGame == 0){\n",
    "    startGame = 1;\n",
    "    tft_fillRect(0, 0, WIDTH, HEIGHT, ILI9340_BLACK);\n",
    "}\n",
    "```\n",
    "\n",
    "<br>"
   ]
  },
  {
   "cell_type": "markdown",
   "id": "egyptian-chance",
   "metadata": {},
   "source": [
    "Now once the game had started, we wanted to check for the jump button press. It was implemented in the same protothread as follows."
   ]
  },
  {
   "cell_type": "markdown",
   "id": "clean-original",
   "metadata": {},
   "source": [
    "```c\n",
    "if(buttonID == 2 && buttonValue == 1 && myPlayer.y == 0 && startGame){\n",
    "    myPlayer.vy = JUM_VEL;\n",
    "    myPlayer.y += 1;\n",
    "}\n",
    "```\n",
    "\n",
    "<br>"
   ]
  },
  {
   "cell_type": "markdown",
   "id": "arbitrary-advertiser",
   "metadata": {},
   "source": [
    "Now, once we had updated the velocity and the y-coordinate of the dino, it was fairly straightforward to update the dino and make it jump up and back down. We implemented the logic in the animation thread as below."
   ]
  },
  {
   "cell_type": "markdown",
   "id": "alternate-installation",
   "metadata": {},
   "source": [
    "```c\n",
    "if(myPlayer.y > 0){\n",
    "    myPlayer.y += myPlayer.vy;\n",
    "    myPlayer.vy -= GRAVITY;\n",
    "}\n",
    "else if(myPlayer.y < 0){\n",
    "    myPlayer.y = 0;\n",
    "    myPlayer.vy = 0;\n",
    "}\n",
    "```\n",
    "\n",
    "<br>"
   ]
  },
  {
   "cell_type": "markdown",
   "id": "unusual-curtis",
   "metadata": {},
   "source": [
    "After implementing the jump algorithm, we tested the code out using the GUI. The result is shown below."
   ]
  },
  {
   "cell_type": "markdown",
   "id": "accredited-compatibility",
   "metadata": {},
   "source": [
    "<div style=\"display: flex; justify-content: center;\">\n",
    "  <img src=\"Week2Jump.jfif\" style=\"width: 446px; height: 273px;\" >\n",
    "</div>\n",
    "<figure>\n",
    "    <center><figcaption>The Jump Implementation</figcaption></center>\n",
    "</figure>"
   ]
  },
  {
   "cell_type": "markdown",
   "id": "specialized-warner",
   "metadata": {},
   "source": [
    "#### Implementing the Collision Algorithm\n",
    "\n",
    "Now that everything was ready, we only needed to implement the collision algorithm to finish the game. To do so, we used a simple algorithm to keep a track of hitboxes and test if the hitboxes collide. Once we detect that hitboxes have collided, we simply set the alive flag to false and display the death message. It is implemented as below."
   ]
  },
  {
   "cell_type": "markdown",
   "id": "complete-travel",
   "metadata": {},
   "source": [
    "```c\n",
    "if((myPlayer.x + myPlayer.w > obstacle.x) && (myPlayer.x < obstacle.x + obstacle.w) && (myPlayer.y < obstacle.h)){\n",
    "    myPlayer.alive = 0;\n",
    "    tft_setTextSize(4);\n",
    "    tft_setTextColor(SOFT_COLOR);\n",
    "    tft_setCursor(5, 60);\n",
    "    tft_writeString(\"!!!!!DEAD!!!!!\");\n",
    "}\n",
    "```\n",
    "\n",
    "<br>"
   ]
  },
  {
   "cell_type": "markdown",
   "id": "chemical-shuttle",
   "metadata": {},
   "source": [
    "After implementing the collision algorithm, we tested the code out using the GUI. The result is shown below."
   ]
  },
  {
   "cell_type": "markdown",
   "id": "medium-cookbook",
   "metadata": {},
   "source": [
    "<div style=\"display: flex; justify-content: center;\">\n",
    "  <img src=\"Week2Dead.jfif\" style=\"width: 446px; height: 273px;\" >\n",
    "</div>\n",
    "<figure>\n",
    "    <center><figcaption>The Collision Implementation</figcaption></center>\n",
    "</figure>"
   ]
  },
  {
   "cell_type": "markdown",
   "id": "experienced-lithuania",
   "metadata": {},
   "source": [
    "#### Implementing the Restart Algorithm\n",
    "\n",
    "Now that our basic game was almost ready, the only thing that was left to do was add a restart functionality after our player died. It was implemented as below."
   ]
  },
  {
   "cell_type": "markdown",
   "id": "interracial-fellow",
   "metadata": {},
   "source": [
    "```c\n",
    "if(buttonID == 3 && buttonValue == 1){\n",
    "    startGame = 0;\n",
    "    tft_fillRect(0, 0, WIDTH, HEIGHT, ILI9340_BLACK);\n",
    "    tft_setTextSize(4);\n",
    "    tft_setTextColor(SOFT_COLOR);\n",
    "    tft_setCursor(25, 100);\n",
    "    tft_writeString(\"Press Start!\");\n",
    "\n",
    "    obsType = randomRange(0, 3);\n",
    "    obstacle.x = WIDTH;\n",
    "    if(obsType == 0){\n",
    "        obstacle.w = OBS_W_0;\n",
    "        obstacle.h = OBS_H_0;\n",
    "    }\n",
    "    else if(obsType == 1){\n",
    "        obstacle.w = OBS_W_1;\n",
    "        obstacle.h = OBS_H_1;\n",
    "    }\n",
    "    else{\n",
    "        obstacle.w = OBS_W_2;\n",
    "        obstacle.h = OBS_H_2;\n",
    "    }\n",
    "\n",
    "    myPlayer.y = 0;\n",
    "    myPlayer.vy = 0;\n",
    "    myPlayer.alive = 1;\n",
    "}\n",
    "```\n",
    "\n",
    "<br>"
   ]
  },
  {
   "cell_type": "markdown",
   "id": "collaborative-cleaners",
   "metadata": {},
   "source": [
    "At this stage our game was completely ready (except for the graphics using bitmaps). Therefore, we moved on to the next stage which was implementation of the voice control feature."
   ]
  },
  {
   "cell_type": "markdown",
   "id": "reflected-anaheim",
   "metadata": {},
   "source": [
    "#### Implementing the Voice Control Feature\n",
    "\n",
    "This was probably the most challenging part of the entire project. In order to get the voice input, we used the Analog to Digital Converter (ADC). The ADC was triggered by a timer interrupt. Once we got the ADC input in an array, we fed the array to a Fast Fourier Transform (FFT) function. The FFT function computes the FFT of the input and provides a range of frequency bins. We then computed which bin has the highest power and then used the bin to compute the frequency range with most power. In order to use the ADC, we used the following parameters. Here `F` is the clock frequency and `Fs` is the sampling frequency."
   ]
  },
  {
   "cell_type": "markdown",
   "id": "fancy-sympathy",
   "metadata": {},
   "source": [
    "```c\n",
    "#define F 40000000\n",
    "#define Fs 4000\n",
    "\n",
    "#define PARAM1 ADC_FORMAT_INTG16 | ADC_CLK_AUTO | ADC_AUTO_SAMPLING_OFF\n",
    "#define PARAM2 ADC_VREF_AVDD_AVSS | ADC_OFFSET_CAL_DISABLE | ADC_SCAN_OFF | ADC_SAMPLES_PER_INT_1 | ADC_ALT_BUF_OFF | ADC_ALT_INPUT_OFF\n",
    "#define PARAM3 ADC_CONV_CLK_PB | ADC_SAMPLE_TIME_5 | ADC_CONV_CLK_Tcy2\n",
    "#define PARAM4 ENABLE_AN11_ANA\n",
    "#define PARAM5 SKIP_SCAN_ALL\n",
    "```\n",
    "\n",
    "<br>"
   ]
  },
  {
   "cell_type": "markdown",
   "id": "complimentary-scope",
   "metadata": {},
   "source": [
    "We setup Timer 2 to interrupt at 4000 Hz as below."
   ]
  },
  {
   "cell_type": "markdown",
   "id": "viral-hamilton",
   "metadata": {},
   "source": [
    "```c\n",
    "OpenTimer2(T2_ON | T2_SOURCE_INT | T2_PS_1_1, F / Fs);\n",
    "ConfigIntTimer2(T2_INT_ON | T2_INT_PRIOR_2);\n",
    "mT2ClearIntFlag();\n",
    "```\n",
    "\n",
    "<br>"
   ]
  },
  {
   "cell_type": "markdown",
   "id": "faced-offering",
   "metadata": {},
   "source": [
    "Next, we configured the ADC to read the input as below."
   ]
  },
  {
   "cell_type": "markdown",
   "id": "expired-journalist",
   "metadata": {},
   "source": [
    "```c\n",
    "CloseADC10();\n",
    "SetChanADC10(ADC_CH0_NEG_SAMPLEA_NVREF | ADC_CH0_POS_SAMPLEA_AN11);\n",
    "OpenADC10(PARAM1, PARAM2, PARAM3, PARAM4, PARAM5);\n",
    "EnableADC10();\n",
    "```\n",
    "\n",
    "<br>"
   ]
  },
  {
   "cell_type": "markdown",
   "id": "incorporated-commissioner",
   "metadata": {},
   "source": [
    "In order to read the ADC input, we used a counter variable, an input variable and a fixed point array to store the most recent 512 input values."
   ]
  },
  {
   "cell_type": "markdown",
   "id": "powered-union",
   "metadata": {},
   "source": [
    "```c\n",
    "#define nSamp 512\n",
    "#define nPixels 256\n",
    "#define N_WAVE 512\n",
    "#define LOG2_N_WAVE 9\n",
    "\n",
    "_Accum v_in[nSamp];\n",
    "\n",
    "volatile int adc_9 = 0;\n",
    "int counter = 0;\n",
    "\n",
    "void __ISR(_TIMER_2_VECTOR, ipl2) Timer2Handler(void){\n",
    "    mT2ClearIntFlag();\n",
    "    adc_9 = ReadADC10(0); \n",
    "    AcquireADC10();\n",
    "    \n",
    "    v_in[counter] = int2Accum(adc_9);\n",
    "    counter++;\n",
    "    if(counter == 512){\n",
    "        counter = 0;\n",
    "    }\n",
    "}\n",
    "```\n",
    "\n",
    "<br>"
   ]
  },
  {
   "cell_type": "markdown",
   "id": "derived-weekend",
   "metadata": {},
   "source": [
    "In order to compute the FFT of the input signal, we used an FFT function which takes in a real array and an imaginary array as an input and returns the output in the same real and imaginary arrays. In our case, our input will completely be stored in the real array as it is a voice signal input and the imaginary array will be all 0s."
   ]
  },
  {
   "cell_type": "markdown",
   "id": "general-packing",
   "metadata": {},
   "source": [
    "```c\n",
    "void FFTfix(_Accum fr[], _Accum fi[], int m){\n",
    "    int mr, nn, i, j, L, k, istep, n;\n",
    "    _Accum qr, qi, tr, ti, wr, wi;\n",
    "\n",
    "    mr = 0;\n",
    "    n = 1 << m;\n",
    "    nn = n - 1;\n",
    "    for(m = 1; m <= nn; ++m){\n",
    "        L = n;\n",
    "        do{\n",
    "            L >>= 1;\n",
    "        }\n",
    "        while(mr + L > nn);\n",
    "        mr = (mr & (L - 1)) + L;\n",
    "        if(mr <= m){\n",
    "            continue;\n",
    "        }\n",
    "        tr = fr[m];\n",
    "        fr[m] = fr[mr];\n",
    "        fr[mr] = tr;\n",
    "    }\n",
    "\n",
    "    L = 1;\n",
    "    k = LOG2_N_WAVE - 1;\n",
    "    while(L < n){\n",
    "        istep = L << 1;\n",
    "        for(m = 0; m < L; ++m){\n",
    "            j = m << k;\n",
    "            wr =  Sinewave[j + N_WAVE / 4];\n",
    "            wi = -Sinewave[j];\n",
    "            for(i = m; i < n; i += istep){\n",
    "                j = i + L;\n",
    "                tr = (wr * fr[j]) - (wi * fi[j]);\n",
    "                ti = (wr * fi[j]) + (wi * fr[j]);\n",
    "                qr = fr[i] >> 1;\n",
    "                qi = fi[i] >> 1;\n",
    "                fr[j] = qr - tr;\n",
    "                fi[j] = qi - ti;\n",
    "                fr[i] = qr + tr;\n",
    "                fi[i] = qi + ti;\n",
    "            }\n",
    "        }\n",
    "        --k;\n",
    "        L = istep;\n",
    "    }\n",
    "}\n",
    "```\n",
    "\n",
    "<br>"
   ]
  },
  {
   "cell_type": "markdown",
   "id": "jewish-charge",
   "metadata": {},
   "source": [
    "We also needed to define a fixed point sine table to be used by the FFT function and initialize it in main."
   ]
  },
  {
   "cell_type": "markdown",
   "id": "swiss-filter",
   "metadata": {},
   "source": [
    "```c\n",
    "_Accum Sinewave[N_WAVE];\n",
    "\n",
    "for (i = 0; i < N_WAVE; i++){\n",
    "    Sinewave[i] = float2Accum(sin(6.283 * ((float) i) / N_WAVE) * 0.5);\n",
    "}\n",
    "```\n",
    "\n",
    "<br>"
   ]
  },
  {
   "cell_type": "markdown",
   "id": "actual-still",
   "metadata": {},
   "source": [
    "For the final part of the voice control implementation, we implemented the FFT function to our voice input in the animation `protothread` following a simple algorithm:\n",
    "- For the input array, use a windowing function (Hann Window in this case) to make the input signal periodic and store the result in `fr`.\n",
    "- Initialize the imaginary array `fi` as all 0s.\n",
    "- Use `FFTFix` to compute Fast Fourier Trasnform and store the result in `fr` and `fi`.\n",
    "- For all elements, compute the magnitude of real and imaginary components using `Alpha Max Beta Min` algorithm and store it in `fr`.\n",
    "- Compare all the magnitudes and figure out the bin with the maximum magnitude.\n",
    "- Use the bin with maximum magnitude to compute the frequency at which the magnitude is maximum. If the frequency lies within a certain range, implement the jump algorithm.\n",
    "\n",
    "This Hann window was implemented as below."
   ]
  },
  {
   "cell_type": "markdown",
   "id": "advised-spine",
   "metadata": {},
   "source": [
    "```c\n",
    "_Accum window[N_WAVE];\n",
    "\n",
    "for (i = 0; i < N_WAVE; i++){\n",
    "    window[i] = float2Accum(1.0 - cos(6.283 * ((float) i) / (N_WAVE - 1)));\n",
    "}\n",
    "```\n",
    "\n",
    "<br>"
   ]
  },
  {
   "cell_type": "markdown",
   "id": "minor-envelope",
   "metadata": {},
   "source": [
    "The voice detection algorithm was implemented as below."
   ]
  },
  {
   "cell_type": "markdown",
   "id": "extreme-squad",
   "metadata": {},
   "source": [
    "```c\n",
    "#define FREQ_UPPER 1800\n",
    "#define FREQ_LOWER 1500\n",
    "\n",
    "_Accum maxFreq;\n",
    "\n",
    "for(sample_number = 0; sample_number < nSamp - 1; sample_number++){\n",
    "    fr[sample_number] = v_in[sample_number] * window[sample_number]; \n",
    "    fi[sample_number] = 0 ;\n",
    "}\n",
    "FFTfix(fr, fi, LOG2_N_WAVE);\n",
    "\n",
    "for(sample_number = 0; sample_number < nPixels; sample_number++){  \n",
    "    fr[sample_number] = abs(fr[sample_number]);\n",
    "    fi[sample_number] = abs(fi[sample_number]);\n",
    "    fr[sample_number] = max(fr[sample_number], fi[sample_number]) + (min(fr[sample_number], fi[sample_number]) * zero_point_4); \n",
    "}\n",
    "static maxPower = 3;\n",
    "for(sample_number = 3; sample_number <= nPixels; sample_number++){\n",
    "    if(fr[sample_number] > fr[maxPower]){\n",
    "        maxPower = sample_number;\n",
    "    }\n",
    "}\n",
    "\n",
    "maxFreq = ((int2Accum(Fs) / int2Accum(512)) * int2Accum(maxPower));\n",
    "printf(\"Max Power: %d\\n\", Accum2int(maxFreq));\n",
    "if(maxFreq < int2Accum(FREQ_UPPER) && maxFreq > int2Accum(FREQ_LOWER) && myPlayer.y == 0){\n",
    "    myPlayer.vy = JUM_VEL;\n",
    "    myPlayer.y += 1;\n",
    "}\n",
    "```\n",
    "\n",
    "<br>"
   ]
  },
  {
   "cell_type": "markdown",
   "id": "bright-strength",
   "metadata": {},
   "source": [
    "_Note: We start computing the maximum frequency from the $3^{rd}$ bin as there is a DC offset which will **always** have the maximum power._\n",
    "\n",
    "A video demonstration at the end of week 2 is attached below."
   ]
  },
  {
   "cell_type": "markdown",
   "id": "opposed-plaza",
   "metadata": {},
   "source": [
    "<div style=\"display: flex; justify-content: center;\">\n",
    "    <iframe width=\"560\" height=\"315\" src=\"https://www.youtube.com/embed/eVazdA0NXZE\" title=\"YouTube video player\" frameborder=\"0\" allow=\"accelerometer; autoplay; clipboard-write; encrypted-media; gyroscope; picture-in-picture\" allowfullscreen>\n",
    "    </iframe>\n",
    "</div>\n",
    "<figure>\n",
    "    <center><figcaption>GUI and voice control of the Dino game</figcaption></center>\n",
    "</figure>"
   ]
  },
  {
   "cell_type": "markdown",
   "id": "norman-calgary",
   "metadata": {},
   "source": [
    "### Week 3\n",
    "\n",
    "During week 3 of the project, we worked on replacing the dino and obstacle blocks with bitmap images of a cartoon dinosaur and 3 different types of cactii to make it aesthetically pleasing. In order to do so, we first used the predefined `tft_drawBitmap()` function and successfully implemented the dino and cactii graphics in the game. However, we realized that the function is not optimized and takes a lot of CPU cycles to run. Thus, we digged into the header files and created our own optimized function for drawing bitmaps.\n",
    "\n",
    "Next, we implemented the live score and high score functionality in the game."
   ]
  },
  {
   "cell_type": "markdown",
   "id": "exposed-citizen",
   "metadata": {},
   "source": [
    "#### The graphic images\n",
    "\n",
    "In order to implement the graphics for the dino and cactii, we downloaded stock images of 3 different cactii, and 3 configurations of the dino - jump position, running position 1 and running position 2. "
   ]
  },
  {
   "cell_type": "markdown",
   "id": "special-conservative",
   "metadata": {},
   "source": [
    "In order from left to right: small cactus, large cactus and multiple cactii."
   ]
  },
  {
   "cell_type": "markdown",
   "id": "unsigned-karma",
   "metadata": {},
   "source": [
    "<div style=\"display: flex; justify-content: center;\">\n",
    "  <img src=\"smallCactus.png\" style=\"margin:10px 50px; width: 20px; height: 40px; \" >\n",
    "  <img src=\"largeCactus.png\" style=\"margin:10px 50px; width: 30px; height: 60px;\" >\n",
    "  <img src=\"multiCactus.png\" style=\"margin:10px 50px; width: 60px; height: 40px;\" >\n",
    "</div>"
   ]
  },
  {
   "cell_type": "markdown",
   "id": "intimate-basis",
   "metadata": {},
   "source": [
    "In order from left to right: dino jump, running position 1 and running position 2."
   ]
  },
  {
   "cell_type": "markdown",
   "id": "unlike-origin",
   "metadata": {},
   "source": [
    "<div style=\"display: flex; justify-content: center;\">\n",
    "  <img src=\"dinoJump.png\" style=\"margin:10px 50px; width: 44px; height: 50px;\" >\n",
    "  <img src=\"dinoRun1.png\" style=\"margin:10px 50px; width: 44px; height: 50px;\" >\n",
    "  <img src=\"dinoRun2.png\" style=\"margin:10px 50px; width: 44px; height: 50px;\" >\n",
    "</div>\n",
    "\n",
    "<br>"
   ]
  },
  {
   "cell_type": "markdown",
   "id": "minor-austin",
   "metadata": {},
   "source": [
    "#### Converting images to bitmaps\n",
    "\n",
    "In order to display these images in the game, we needed to convert them in a form which a microcontroller could understand. This form is known as a `bitmap`. A bitmap is basically an array of pixels where each bit of the array signifies whether a pixel is dark or light. If the pixel is light, the bit is set to 1 and if the pixel is dark, the bit is set to 0. In order to conserve space, the pixels are represented in a hexdecimal format so that each element of the array represents a series of 8 pixels.\n",
    "\n",
    "In order to convert these PNG images in the bitmap format, we used [LCD Image Converter](https://lcd-image-converter.riuson.com/en/about/). We followed the following steps for this conversion:\n",
    "- Open the desired PNG image in the software.\n",
    "- Click on `Options > Conversion`.\n",
    "- Set the preset to `Monochrome` and click `Show Preview`.\n",
    "- This will open up a new window which displays the 1D array of the desired 2D bitmap image."
   ]
  },
  {
   "cell_type": "markdown",
   "id": "liquid-harvest",
   "metadata": {},
   "source": [
    "#### Creating the bitmap header\n",
    "\n",
    "The above conversion was repeated for all six images and we stored the resultant arrays in a file called `BitMap.h`. Every single array is of the type `const unsigned char`. We used `const` because the bitmap will remain constant throught the execution of the program and will be stored in the flash memory."
   ]
  },
  {
   "cell_type": "markdown",
   "id": "right-second",
   "metadata": {},
   "source": [
    "#### Implementing the predefined bitmap function\n",
    "\n",
    "The provided `tft_gfx.h` library has a predefined function called `tft_drawBitmap()` which takes in the following parameters to draw the image:\n",
    "- The x-coordinate of the image\n",
    "- The y-coordinate of the image\n",
    "- The pointer to the first element of the bitmap array\n",
    "- The width of the image\n",
    "- The height of the image\n",
    "- The color of the image\n",
    "\n",
    "We implemented the code as below."
   ]
  },
  {
   "cell_type": "markdown",
   "id": "czech-carter",
   "metadata": {},
   "source": [
    "We first included the bitmap library."
   ]
  },
  {
   "cell_type": "markdown",
   "id": "joined-illustration",
   "metadata": {},
   "source": [
    "```c\n",
    "#include \"BitMap.h\"\n",
    "```\n",
    "\n",
    "<br>"
   ]
  },
  {
   "cell_type": "markdown",
   "id": "amino-horizon",
   "metadata": {},
   "source": [
    "We then defined `RUNNER_FRAMES` constant value and a variable `runner` which help us in creating an illusion of the dino running."
   ]
  },
  {
   "cell_type": "markdown",
   "id": "thousand-fight",
   "metadata": {},
   "source": [
    "```c\n",
    "#define RUNNER_FRAMES 10\n",
    "char runner = 0;\n",
    "```\n",
    "\n",
    "<br>"
   ]
  },
  {
   "cell_type": "markdown",
   "id": "saving-mounting",
   "metadata": {},
   "source": [
    "The next step was to replace all the `tft_fillRect()` functions in the animation protothread with the `tft_drawBitmap()` function to implement the dino cactii graphics.\n",
    "\n",
    "_Note: To implement the cactii graphics, we had to use a switch case which draws the correct bitmap for the cactii based on the variable `obsType`._"
   ]
  },
  {
   "cell_type": "markdown",
   "id": "spoken-architecture",
   "metadata": {},
   "source": [
    "```c\n",
    "switch(obsType){\n",
    "    case 0: tft_drawBitmap(obstacle.x, (HEIGHT - GROUND_HEIGHT - ((obstacle.h / 2))), obsTypeZer, obstacle.w, obstacle.h, ILI9340_BLACK);\n",
    "            break;\n",
    "    case 1: tft_drawBitmap(obstacle.x, (HEIGHT - GROUND_HEIGHT - ((obstacle.h / 2))), obsTypeOne, obstacle.w, obstacle.h, ILI9340_BLACK);\n",
    "            break;\n",
    "    case 2: tft_drawBitmap(obstacle.x, (HEIGHT - GROUND_HEIGHT - ((obstacle.h / 2))), obsTypeTwo, obstacle.w, obstacle.h, ILI9340_BLACK);\n",
    "            break;\n",
    "}\n",
    "\n",
    "//After updating the obstacle parameters\n",
    "\n",
    "switch(obsType){\n",
    "    case 0: tft_drawBitmap(obstacle.x, (HEIGHT - GROUND_HEIGHT - ((obstacle.h / 2))), obsTypeZer, obstacle.w, obstacle.h, HARD_COLOR);\n",
    "            break;\n",
    "    case 1: tft_drawBitmap(obstacle.x, (HEIGHT - GROUND_HEIGHT - ((obstacle.h / 2))), obsTypeOne, obstacle.w, obstacle.h, HARD_COLOR);\n",
    "            break;\n",
    "    case 2: tft_drawBitmap(obstacle.x, (HEIGHT - GROUND_HEIGHT - ((obstacle.h / 2))), obsTypeTwo, obstacle.w, obstacle.h, HARD_COLOR);\n",
    "            break;\n",
    "}\n",
    "```\n",
    "\n",
    "<br>"
   ]
  },
  {
   "cell_type": "markdown",
   "id": "surrounded-bidding",
   "metadata": {},
   "source": [
    "After updating the player parameters, we had to draw the appropriate dino image. We used the following three conditions to draw the dino:\n",
    "- If the dino is in the middle of a jump, then we draw the dino jump bitmap.\n",
    "- If the `runner` variable is between 0 and `RUNNER_FRAMES` / 2, then draw the dino running position 1 bitmap.\n",
    "- If the `runner` variable is between `RUNNER_FRAMES` / 2 and `RUNNER_FRAMES`, then draw the dino running position 2 bitmap.\n",
    "\n",
    "Once the `runner` variable hits `RUNNER_FRAMES`, it will reset to 0."
   ]
  },
  {
   "cell_type": "markdown",
   "id": "virgin-polish",
   "metadata": {},
   "source": [
    "```c\n",
    "if(myPlayer.y > 0){\n",
    "    tft_drawBitmap(myPlayer.x, (HEIGHT - GROUND_HEIGHT - (myPlayer.y + (myPlayer.h / 2))), dinoJumpUp, myPlayer.w, myPlayer.h, SOFT_COLOR);\n",
    "}\n",
    "else{\n",
    "    if(runner > RUNNER_FRAMES / 2){\n",
    "        tft_drawBitmap(myPlayer.x, (HEIGHT - GROUND_HEIGHT - (myPlayer.y + (myPlayer.h / 2))), dinoRunOne, myPlayer.w, myPlayer.h, SOFT_COLOR);\n",
    "    }\n",
    "    else{\n",
    "        tft_drawBitmap(myPlayer.x, (HEIGHT - GROUND_HEIGHT - (myPlayer.y + (myPlayer.h / 2))), dinoRunTwo, myPlayer.w, myPlayer.h, SOFT_COLOR);\n",
    "    }\n",
    "}\n",
    "runner = (runner + 1) % RUNNER_FRAMES;\n",
    "```\n",
    "\n",
    "<br>"
   ]
  },
  {
   "cell_type": "markdown",
   "id": "passing-company",
   "metadata": {},
   "source": [
    "After implementing the bitmaps, we tested the code out using the GUI. The result is shown below."
   ]
  },
  {
   "cell_type": "markdown",
   "id": "broad-strengthening",
   "metadata": {},
   "source": [
    "<div style=\"display: flex; justify-content: center;\">\n",
    "  <img src=\"BitmapUnoptimized.png\" style=\"width: 600px; height: 405px;\" >\n",
    "</div>\n",
    "<figure>\n",
    "    <center><figcaption>The Output of Bitmap Implementation</figcaption></center>\n",
    "</figure>\n",
    "\n",
    "<br>"
   ]
  },
  {
   "cell_type": "markdown",
   "id": "starting-illness",
   "metadata": {},
   "source": [
    "As we can see from the result, the amount of extra time we were left with is 1 millisecond for a specific frame with the multi cactus image. This is not a lot considering that it was about 7-8 milliseconds before implementing the graphics. Therefore, there was a pressing need to optimize the process of drawing bitmap."
   ]
  },
  {
   "cell_type": "markdown",
   "id": "intense-prospect",
   "metadata": {},
   "source": [
    "#### Optimization of the predefined bitmap function\n",
    "\n",
    "In order to optimize the function, we dug into the library and studied how each function is implemented. Particularly, the `tft_drawBitmap()` function is implemented in the following manner:\n",
    "- Define a `byteWidth` and counter variables `i` & `j`.\n",
    "- For all the elements in the given bitmap, check if the given pixel is set.\n",
    "- If the given pixel is set, draw a pixel of the given color using the `tft_drawPixel()` function.\n",
    "- Otherwise, do nothing.\n",
    "\n",
    "At first glance, this doesn't look particularly unoptimized. However, digging in deeper, we found that calling the `tft_drawPixel()` function for all the pixels is pretty time consuming as the `tft_drawPixel()` function is implemented as follows:\n",
    "- Configure the row address.\n",
    "- Configure the column address.\n",
    "- Send the color to be drawn with.\n",
    "\n",
    "This row and column address configuration for all the pixels is quite time consuming and redundant. On the other hand, comparing it to the `tft_fillRect()` function, this function is implemented as follows:\n",
    "- Set the boundary condition for the rectangle.\n",
    "- Set the address window.\n",
    "- For all the pixels, send the color to be drawn with.\n",
    "\n",
    "This function is extremely optimized as we need to set the address window only once. Therefore, we combined the two functions to create a new function called `drawBitmap()` which takes in the same set of arguments as the `tft_drawBitmap()` function (and is therefore interchangeable). It was implemented as follows:\n",
    "- Set the boundary condition for the rectangle.\n",
    "- Set the address window.\n",
    "- For all the elements in the given bitmap, check if the given pixel is set.\n",
    "- If the given pixel is set, send the color directly to the TFT using the `tft_spiwrite16()` function.\n",
    "- Otherwise, send the `0xFFFF` directly to the TFT using the `tft_spiwrite16()` function to draw a black background.\n",
    "\n",
    "_Note: This function assumes that the background is black in color. It can be optimized to take a different background color._\n",
    "\n",
    "The implemented function is shown below."
   ]
  },
  {
   "cell_type": "markdown",
   "id": "fresh-consequence",
   "metadata": {},
   "source": [
    "```c\n",
    "#define pgm_read_byte(addr) (*(const unsigned char *)(addr))\n",
    "void drawBitmap(short x, short y, const unsigned char *bitmap, short w, short h, unsigned short color){\n",
    "    if((x >= _width) || (y >= _height)) return;\n",
    "    if((x + w - 1) >= _width)  w = _width  - x;\n",
    "    if((y + h - 1) >= _height) h = _height - y;\n",
    "\n",
    "    tft_setAddrWindow(x, y, x + w - 1, y + h - 1);\n",
    "    _dc_high();\n",
    "    _cs_low();\n",
    "  \n",
    "    short i, j, byteWidth = (w + 7) / 8;\n",
    "    for(j = 0; j < h; j++){\n",
    "        for(i = 0; i < w; i++){\n",
    "            if(pgm_read_byte(bitmap + j * byteWidth + i / 8) & (128 >> (i & 7))) {\n",
    "                tft_spiwrite16(color);\n",
    "            }\n",
    "            else{\n",
    "                tft_spiwrite16(0x0000);\n",
    "            }\n",
    "        }\n",
    "    }\n",
    "\n",
    "  _cs_high();\n",
    "}\n",
    "```\n",
    "\n",
    "<br>"
   ]
  },
  {
   "cell_type": "markdown",
   "id": "charming-privilege",
   "metadata": {},
   "source": [
    "After implementing the bitmaps using our optimized function, we tested the code out again using the GUI. The result is shown below."
   ]
  },
  {
   "cell_type": "markdown",
   "id": "korean-bride",
   "metadata": {},
   "source": [
    "<div style=\"display: flex; justify-content: center;\">\n",
    "  <img src=\"BitmapOptimized.png\" style=\"width: 600px; height: 402px;\" >\n",
    "</div>\n",
    "<figure>\n",
    "    <center><figcaption>The Output of Optimized Bitmap Implementation</figcaption></center>\n",
    "</figure>\n",
    "\n",
    "<br>"
   ]
  },
  {
   "cell_type": "markdown",
   "id": "molecular-exposure",
   "metadata": {},
   "source": [
    "As we can see from the result, the amount of extra time we were left with is 7 milliseconds for a specific frame with the multi cactus image. This is a huge improvement as compared to the unoptimized version of the code. This timing difference is even greated for larger bitmaps as there are more pixels to draw."
   ]
  },
  {
   "cell_type": "markdown",
   "id": "lovely-korea",
   "metadata": {},
   "source": [
    "#### Implementation of scores\n",
    "\n",
    "At this point our game was almost ready. One small thing that was left was keeping a track of score and high score. In order to do so, we initialized two variables: `score` and `highScore`."
   ]
  },
  {
   "cell_type": "markdown",
   "id": "julian-institute",
   "metadata": {},
   "source": [
    "```c\n",
    "int score = 0, highScore = 0;\n",
    "```\n",
    "\n",
    "<br>"
   ]
  },
  {
   "cell_type": "markdown",
   "id": "north-wheel",
   "metadata": {},
   "source": [
    "In order to keep a track of the score, we increment the score as soon as the obstacle has passed the frame in the animation protothread. Next, we compare if the current score is greater than the high score. If it is, we change the high score."
   ]
  },
  {
   "cell_type": "markdown",
   "id": "historic-longer",
   "metadata": {},
   "source": [
    "```c\n",
    "if(obstacle.x + obstacle.w < 0){\n",
    "    score++;\n",
    "    if(score > highScore){\n",
    "        highScore = score;\n",
    "    }\n",
    "}\n",
    "```\n",
    "\n",
    "<br>"
   ]
  },
  {
   "cell_type": "markdown",
   "id": "painful-extension",
   "metadata": {},
   "source": [
    "Moreover, we needed to add the score reset feature in the reset button functionality. Therefore, we modified the reset button condition in the button protothread by adding the following statement to it."
   ]
  },
  {
   "cell_type": "markdown",
   "id": "endangered-covering",
   "metadata": {},
   "source": [
    "```c\n",
    "score = 0;\n",
    "```\n",
    "\n",
    "<br>"
   ]
  },
  {
   "cell_type": "markdown",
   "id": "concerned-mining",
   "metadata": {},
   "source": [
    "At this point the score and high score were implemented. All that was left to do was print them out on the screen. In order to do so, we `#define`ed a few parameters which kept a track of the screen coordinates as to where to show the score."
   ]
  },
  {
   "cell_type": "markdown",
   "id": "after-american",
   "metadata": {},
   "source": [
    "```c\n",
    "#define SCORE_X_OFFSET1 5\n",
    "#define SCORE_X_OFFSET2 150\n",
    "#define SCORE_Y_OFFSET1 5\n",
    "#define SCORE_Y_OFFSET2 30\n",
    "```\n",
    "\n",
    "<br>"
   ]
  },
  {
   "cell_type": "markdown",
   "id": "unnecessary-henry",
   "metadata": {},
   "source": [
    "Next, we implemented the following lines of code in the start button condition in the button protothread in order to print out the score as soon as the game starts. The `tft_setTextSize()` is used to set the size of the text to be printed. `tft_setTextColor()` is used to change the color of the text to be printed. The `tft_setCursor()` function takes in two arguments: the x-coordinate and the y-coordinate of the top left corner of the text. In order to print a string on the screen, we used the `tft_writeString()`. Lastly, in order to print some variables on the screen, we had to use the `sprintf()` function to first store the variable in a char array and then send the char array to the screen in order to print it."
   ]
  },
  {
   "cell_type": "markdown",
   "id": "metropolitan-headquarters",
   "metadata": {},
   "source": [
    "```c\n",
    "tft_setTextSize(2);\n",
    "tft_setTextColor(SOFT_COLOR);\n",
    "tft_setCursor(SCORE_X_OFFSET1, SCORE_Y_OFFSET1);\n",
    "tft_writeString(\"Your Score:\");\n",
    "tft_setCursor(SCORE_X_OFFSET1, SCORE_Y_OFFSET2);\n",
    "tft_writeString(\"High Score:\");\n",
    "tft_setCursor(SCORE_X_OFFSET2, SCORE_Y_OFFSET1);\n",
    "sprintf(buffer, \"%2d\", score);\n",
    "tft_writeString(buffer);\n",
    "tft_setCursor(SCORE_X_OFFSET2, SCORE_Y_OFFSET2);\n",
    "sprintf(buffer, \"%2d\", highScore);\n",
    "tft_writeString(buffer);\n",
    "```\n",
    "\n",
    "<br>"
   ]
  },
  {
   "cell_type": "markdown",
   "id": "indoor-technique",
   "metadata": {},
   "source": [
    "Next, everytime the score changes (when the obstacle moves out of the frame), we changed the text printed on the screen. We implemented it by adding the following lines in the animation protothread. We first erase the previous value of the score and highscore by printing them in black and then print the updated values using the desired color."
   ]
  },
  {
   "cell_type": "markdown",
   "id": "hundred-norman",
   "metadata": {},
   "source": [
    "```c\n",
    "if(obstacle.x + obstacle.w < 0){\n",
    "    tft_setTextColor(ILI9340_BLACK);\n",
    "    tft_setCursor(SCORE_X_OFFSET2, SCORE_Y_OFFSET1);\n",
    "    sprintf(buffer, \"%2d\", score);\n",
    "    tft_writeString(buffer);\n",
    "    tft_setCursor(SCORE_X_OFFSET2, SCORE_Y_OFFSET2);\n",
    "    sprintf(buffer, \"%2d\", highScore);\n",
    "    tft_writeString(buffer);\n",
    "    \n",
    "    //Update the score and high score\n",
    "    \n",
    "    tft_setTextColor(SOFT_COLOR);\n",
    "    tft_setCursor(SCORE_X_OFFSET2, SCORE_Y_OFFSET1);\n",
    "    sprintf(buffer, \"%2d\", score);\n",
    "    tft_writeString(buffer);\n",
    "    tft_setCursor(SCORE_X_OFFSET2, SCORE_Y_OFFSET2);\n",
    "    sprintf(buffer, \"%2d\", highScore);\n",
    "    tft_writeString(buffer);\n",
    "}\n",
    "```\n",
    "\n",
    "<br>"
   ]
  },
  {
   "cell_type": "markdown",
   "id": "respiratory-skirt",
   "metadata": {},
   "source": [
    "A video demonstration at the end of week 3 is attached below."
   ]
  },
  {
   "cell_type": "markdown",
   "id": "champion-colon",
   "metadata": {},
   "source": [
    "<div style=\"display: flex; justify-content: center;\">\n",
    "    <iframe width=\"560\" height=\"315\" src=\"https://www.youtube.com/embed/wvb0nBX4MC4\" title=\"YouTube video player\" frameborder=\"0\" allow=\"accelerometer; autoplay; clipboard-write; encrypted-media; gyroscope; picture-in-picture\" allowfullscreen>\n",
    "    </iframe>\n",
    "</div>\n",
    "<figure>\n",
    "    <center><figcaption>Implementation of the graphics and score in the Dino game</figcaption></center>\n",
    "</figure>"
   ]
  },
  {
   "cell_type": "markdown",
   "id": "unique-sweet",
   "metadata": {},
   "source": [
    "### Week 4\n",
    "\n",
    "During week 4 of the project, we worked on adding the sound effects. In order to do so, we first used MATLAB to convert some `wav` audio files into a large array and then used that array to send data directly to the DAC using DMA.\n",
    "\n",
    "Next, we tweaked the background color a bit to make the display more presentable."
   ]
  },
  {
   "cell_type": "markdown",
   "id": "administrative-extraction",
   "metadata": {},
   "source": [
    "#### Converting audio files to arrays\n",
    "\n",
    "In order to add the audio in game, we first had to covert it into a form which can directly be read by the microcontroller. Moreover, it had to be in a format that can be directly pushed to the DAC. Hence, we also had to append the 4 DAC configuration bits in the MSB of each element of the audio array."
   ]
  },
  {
   "cell_type": "markdown",
   "id": "listed-plastic",
   "metadata": {},
   "source": [
    "First, we defined the upper and lower bounds of the audio file in terms of the audio sample number. This was done to remove any unwanted sections of the audio. Next, we defined the `FILE_NAME` and the `TEXT_FILE`. These are the audio input file name and the output text file name respectively. Lastly, we defined the `BitRate` which is the new sampling frequency of the audio. This was done to reduce the size of the audio array. _Note: Reducing the bitrate of the audio also reduces the audio quality._"
   ]
  },
  {
   "cell_type": "markdown",
   "id": "preliminary-schema",
   "metadata": {},
   "source": [
    "```c\n",
    "UPPER_RANGE = %Your Upper Range%\n",
    "LOWER_RANGE = %Your Upper Range%\n",
    "FILE_NAME = %Audio File Name%\n",
    "TEXT_FILE = %Text File Name%\n",
    "BitRate = 8000\n",
    "Range = [LOWER_RANGE, UPPER_RANGE];\n",
    "```\n",
    "\n",
    "<br>"
   ]
  },
  {
   "cell_type": "markdown",
   "id": "pretty-mambo",
   "metadata": {},
   "source": [
    "Next we used the `audioread()` function to read the audio file into an array `y` and get its default sampling frequency `Fs`. In order to change the sampling frequency, we used the `resample()` function to change its bitrate. _Note: This function requires the DSP toolbox to be installed in MATLAB to work properly._ The audio file we read was a 2 channel audio, hence we sliced it down to a single channel and stored it in `ys` as a column matrix. The amplitude of the audio input stored in `ys` ranges from -1 to 1. However, we have a 12-bit DAC. Therefore, we had to rescale the amplitude from 0 to 4095. This was done using the `rescale()` function. Laslty, we force casted each element of the audio to a `uint16` data type in order to make it compatible with the DAC."
   ]
  },
  {
   "cell_type": "markdown",
   "id": "painful-point",
   "metadata": {},
   "source": [
    "```c\n",
    "[y, Fs] = audioread(FILE_NAME, Range);\n",
    "yn = resample(y, BitRate, Fs);\n",
    "ys = yn(:, 1);\n",
    "yqfinal = rescale(ys, 0, 4095);\n",
    "ysfinal = cast(yqfinal, 'uint16');\n",
    "```\n",
    "\n",
    "<br>"
   ]
  },
  {
   "cell_type": "markdown",
   "id": "growing-namibia",
   "metadata": {},
   "source": [
    "We then opened the text file in write mode using the `fopen()` function. Then we used a `for` loop to traverse through every element of the audio array and append the DAC configuration bits to it by performing a bitwise `OR` operation using the `bitor()` function. The elements are then written into the text file using the `fprintf()` function. After all elements are written in the text file, we closed the file using the `fclose()` function."
   ]
  },
  {
   "cell_type": "markdown",
   "id": "recent-dealer",
   "metadata": {},
   "source": [
    "```c\n",
    "file = fopen(TEXT_FILE, 'w');\n",
    "for i = 1 : length(ysfinal)\n",
    "    yfinal(i) = bitor(ysfinal(i), 0b0011000000000000);\n",
    "    fprintf(file, \"%d, \", yfinal(i));\n",
    "end\n",
    "fclose(file);\n",
    "```\n",
    "<br>"
   ]
  },
  {
   "cell_type": "markdown",
   "id": "copyrighted-replica",
   "metadata": {},
   "source": [
    "#### Creating the audio header file\n",
    "\n",
    "The above conversion was repeated for all audio files and we stored the resultant arrays in a file called `Audio.h`. Every single array is of the type `const unsigned short`. We used `const` because the audio will remain constant throught the execution of the program and will be stored in the flash memory."
   ]
  },
  {
   "cell_type": "markdown",
   "id": "suited-legislature",
   "metadata": {},
   "source": [
    "#### Implementing audio using DMA\n",
    "\n",
    "In order to implement the audio functionality, we used Direct Memory Access (DMA). We chose DMA because it is a hardware peripheral functionality and as a result doesn't use up any clock cycles to run. Moreover, once setup, it can be triggered from any point in the code. We implemented the code as below."
   ]
  },
  {
   "cell_type": "markdown",
   "id": "requested-ivory",
   "metadata": {},
   "source": [
    "We first included the audio library."
   ]
  },
  {
   "cell_type": "markdown",
   "id": "simplified-finance",
   "metadata": {},
   "source": [
    "```c\n",
    "#include \"Audio.h\"\n",
    "```\n",
    "\n",
    "<br>"
   ]
  },
  {
   "cell_type": "markdown",
   "id": "czech-india",
   "metadata": {},
   "source": [
    "We the defined a few parameters. These are namely the number of bytes in the audio arrays (twice the number of elements in the arrays since it is a short data type) and the DMA channels (we are using channels 2 and 3 as channels 0 and 1 are used by the `serial` protothread). We also defined a `SPI_CLK_DIV` as the maximum SPI frequency is 20MHz."
   ]
  },
  {
   "cell_type": "markdown",
   "id": "coral-ethics",
   "metadata": {},
   "source": [
    "```c\n",
    "#define JUMP_AUDIO_SIZE 23156 \n",
    "#define DEAD_AUDIO_SIZE 35670\n",
    "#define DMA_CHANNEL2 2\n",
    "#define DMA_CHANNEL3 3\n",
    "#define SPI_CLK_DIV 2\n",
    "```\n",
    "\n",
    "<br>"
   ]
  },
  {
   "cell_type": "markdown",
   "id": "greater-hampshire",
   "metadata": {},
   "source": [
    "In order to use the DMA, we need to configure a timer which overflows and throws an interrupt at the same rate as the bitrate of the audio. This is to ensure that the audio is played at the correct frequency. In order to do so, we used the `Timer 3` in PIC32 and configured it to throw an interrupt after every 5000 CPU cycles (since our bitrate is 8kHz and the CPU frequency is 40MHz)."
   ]
  },
  {
   "cell_type": "markdown",
   "id": "republican-brand",
   "metadata": {},
   "source": [
    "```c\n",
    "OpenTimer3(T3_ON | T3_SOURCE_INT | T3_PS_1_1, 5000);\n",
    "```\n",
    "\n",
    "<br>"
   ]
  },
  {
   "cell_type": "markdown",
   "id": "mineral-eating",
   "metadata": {},
   "source": [
    "Next, we configured the SPI channel 2 to communicate with the DAC. To do so, we enabled the SPI in 16-bit mode and in the master configuration. We also used `SPICON_FRMEN` and `SPICON_FRMPOL` flags to ensure that the SPI is configured in the framed SPI mode as we cannot toggle the chip select line in software while using DMA. Next, we mapped the SPI data out pin to `RPB5` and the SPI chip select line to `RPA3` pin on the board."
   ]
  },
  {
   "cell_type": "markdown",
   "id": "blond-hungary",
   "metadata": {},
   "source": [
    "```c\n",
    "SpiChnOpen(SPI_CHANNEL2, SPI_OPEN_ON | SPI_OPEN_MODE16 | SPI_OPEN_MSTEN | SPI_OPEN_CKE_REV | SPICON_FRMEN | SPICON_FRMPOL, SPI_CLK_DIV);\n",
    "PPSOutput(2, RPB5, SDO2);\n",
    "PPSOutput(4, RPA3, SS2);\n",
    "```\n",
    "\n",
    "<br>"
   ]
  },
  {
   "cell_type": "markdown",
   "id": "static-barcelona",
   "metadata": {},
   "source": [
    "In order to open the DMA channel, we used the `DmaChnOpen()` command. We used the higher priority for `deadAudio` as that takes priority over jumps. Moreover, we used the `DMA_OPEN_DEFAULT` flag as we want our audio samples to play only once and then stop. Next, in order to configure the transfers, we used the `DmaChnSetTxfer()` function to set the transfer parameters. It takes in the arguments as the dma channel, the source address, the destination address, the source size, the destination size and the transferred cell size in the given order. Lastly, we setup the DMA event control to timer 3 IRQ as it will control the DMA transfers once the DMA channel has been enabled."
   ]
  },
  {
   "cell_type": "markdown",
   "id": "martial-silver",
   "metadata": {},
   "source": [
    "```c\n",
    "DmaChnOpen(DMA_CHANNEL2, 3, DMA_OPEN_DEFAULT);\n",
    "DmaChnSetTxfer(DMA_CHANNEL2, jumpAudio, (void*)&SPI2BUF, JUMP_AUDIO_SIZE, 2, 2);\n",
    "DmaChnSetEventControl(DMA_CHANNEL2, DMA_EV_START_IRQ(_TIMER_3_IRQ));\n",
    "    \n",
    "DmaChnOpen(DMA_CHANNEL3, 0, DMA_OPEN_DEFAULT);\n",
    "DmaChnSetTxfer(DMA_CHANNEL3, deadAudio, (void*)&SPI2BUF, DEAD_AUDIO_SIZE, 2, 2);\n",
    "DmaChnSetEventControl(DMA_CHANNEL3, DMA_EV_START_IRQ(_TIMER_3_IRQ));\n",
    "```\n",
    "\n",
    "<br>"
   ]
  },
  {
   "cell_type": "markdown",
   "id": "minute-packing",
   "metadata": {},
   "source": [
    "In order to play the audio, we used the `DmaChnEnable()` function to start DMA transfers to the DAC. This function is called whenever the dino jumps to play the jump audio or the dino dies to play the death audio."
   ]
  },
  {
   "cell_type": "markdown",
   "id": "wired-durham",
   "metadata": {},
   "source": [
    "A video demonstration at the end of week 4 is attached below."
   ]
  },
  {
   "cell_type": "markdown",
   "id": "forward-tradition",
   "metadata": {},
   "source": [
    "<div style=\"display: flex; justify-content: center;\">\n",
    "    <iframe width=\"560\" height=\"315\" src=\"https://www.youtube.com/embed/VWI1axdjxc8\" title=\"YouTube video player\" frameborder=\"0\" allow=\"accelerometer; autoplay; clipboard-write; encrypted-media; gyroscope; picture-in-picture\" allowfullscreen>\n",
    "    </iframe>\n",
    "</div>\n",
    "<figure>\n",
    "    <center><figcaption>Implementation of the audio functionality in the Dino game</figcaption></center>\n",
    "</figure>\n",
    "\n",
    "---"
   ]
  },
  {
   "cell_type": "markdown",
   "id": "foreign-atmosphere",
   "metadata": {},
   "source": [
    "## Results\n",
    "\n",
    "We wanted our game to run at 30 fps as it looks most aesthetically pleasing to the eyes. Therefore, each computation cycle (and hence frame) must be executed within 33ms. To keep a track of whether we are meeting this timing deadline, we printed out the time remaining in each computation cycle, after all the computations were done. If this number was a positive number, then that implies that we are able to meet the deadline. After numerous cycles of testing, we conclude that our game is running at 30 fps and the time metric doesn't go below 0 for any frame."
   ]
  },
  {
   "cell_type": "markdown",
   "id": "owned-region",
   "metadata": {},
   "source": [
    "<div style=\"display: flex; justify-content: center;\">\n",
    "  <img src=\"30fps.png\" style=\"width: 370px; height: 400px;\" >\n",
    "</div>\n",
    "<figure>\n",
    "    <center><figcaption>The remaining time in each cycle</figcaption></center>\n",
    "</figure>\n",
    "\n",
    "<br>"
   ]
  },
  {
   "cell_type": "markdown",
   "id": "dated-taste",
   "metadata": {},
   "source": [
    "In order to test the optimization provided by our `drawBitmap()` function, we compared the amount of time left after updation of each frame in order to maintain a constant frame rate of 30 fps. We found out that for a frame with the largest group of cactii, there is about 1 millisecond left in case of the unoptimized `tft_drawBitmap()` function."
   ]
  },
  {
   "cell_type": "markdown",
   "id": "charged-general",
   "metadata": {},
   "source": [
    "<div style=\"display: flex; justify-content: center;\">\n",
    "  <img src=\"BitmapUnoptimized.png\" style=\"width: 600px; height: 405px;\" >\n",
    "</div>\n",
    "<figure>\n",
    "    <center><figcaption>Using the default function</figcaption></center>\n",
    "</figure>\n",
    "\n",
    "<br>"
   ]
  },
  {
   "cell_type": "markdown",
   "id": "opposite-bahamas",
   "metadata": {},
   "source": [
    "However, for the same frame with the largest group of cactii, there is about 7 milliseconds left in case of the optimized `drawBitmap()` function."
   ]
  },
  {
   "cell_type": "markdown",
   "id": "authentic-council",
   "metadata": {},
   "source": [
    "<div style=\"display: flex; justify-content: center;\">\n",
    "  <img src=\"BitmapOptimized.png\" style=\"width: 600px; height: 402px;\" >\n",
    "</div>\n",
    "<figure>\n",
    "    <center><figcaption>Using the optimized function</figcaption></center>\n",
    "</figure>\n",
    "\n",
    "<br>"
   ]
  },
  {
   "cell_type": "markdown",
   "id": "third-belfast",
   "metadata": {},
   "source": [
    "One crucial aspect of the game being controlled using whistle was that it must respond to the frequencies of the whistle only and not the frequencies of any other noises- talking, background hum, etc. To test that the game responds only to frequencies in a given range (1500Hz to 1800Hz), we played the game using a tone generator. The range of frequencies to which the dino jumped are given below:\n",
    "\n",
    "- Lower frequency: 1497Hz\n",
    "- Higher frequency: 1801Hz\n",
    "\n",
    "These values are within 3Hz of the given range, which makes sense because the size of each bracket in the FFT is 4Hz (512 point FFT in a 2kHz range). Thus, we were successful in getting the dino to respond only to whistle frequencies.\n",
    "\n",
    "---"
   ]
  },
  {
   "cell_type": "markdown",
   "id": "loaded-faculty",
   "metadata": {},
   "source": [
    "## Conclusion\n",
    "\n",
    "Our final dino game works exactly as we expected it to and follows everything we outlined in the final project proposal. We met all the goals we outlined and the game behaved exactly as we expected it to in the demo. If we were to do this project again, we would add additional flash memory to make the game more complex. We would like to add extra sounds, maybe even birds for the dino to duck under.\n",
    "\n",
    "We believe there is no intellectual property associated with this project. We have merely replicated an open-source game using our own code and linked all the associated softwares appropriately.\n",
    "\n",
    "This project does not jeopardise the safety of the users or endangers the environment, and we believe our project does not have confilict of interest with any party. In accordance with the IEEE Code of Ethics, we actively seeked help and suggestions from our professors and TAs on the project and asked for ideas for how to make it better.\n",
    "\n",
    "There are no legal considerations relevant to this project.\n",
    "\n",
    "---"
   ]
  },
  {
   "cell_type": "markdown",
   "id": "legal-contemporary",
   "metadata": {},
   "source": [
    "## Appendix\n",
    "\n",
    "### Appendix A: Permissions\n",
    "\n",
    "The group approves this report for inclusion on the course website.\n",
    "\n",
    "The group approves the video for inclusion on the course youtube channel."
   ]
  },
  {
   "cell_type": "markdown",
   "id": "sufficient-virtue",
   "metadata": {},
   "source": [
    "### Appendix B: Code Listing\n",
    "\n",
    "The following are the commented code listings used throughout the project:\n",
    "- [Final version of the game](Week4Code.c)\n",
    "- [Audio header file](Audio.h)\n",
    "- [Bitmap header file](BitMap.h)\n",
    "- [Python code for the GUI](Week2PythonCode.txt)\n",
    "- [MATLAB code to convert wav to audio array](ConvertAudioToArray.txt)"
   ]
  },
  {
   "cell_type": "markdown",
   "id": "false-trial",
   "metadata": {},
   "source": [
    "### Appendix C: Circuit Schematics\n",
    "\n",
    "The schematics of the SECABB is as shown below."
   ]
  },
  {
   "cell_type": "markdown",
   "id": "necessary-tenant",
   "metadata": {},
   "source": [
    "<div style=\"display: flex; justify-content: center;\">\n",
    "  <img src=\"SECABBSchematic.png\" style=\"width: 665px; height: 500px;\" >\n",
    "</div>\n",
    "<figure>\n",
    "    <center><figcaption>The SECABB schematic</figcaption></center>\n",
    "</figure>\n",
    "\n",
    "<br>"
   ]
  },
  {
   "cell_type": "markdown",
   "id": "every-attachment",
   "metadata": {},
   "source": [
    "### Appendix D: Bill of Material\n",
    "\n",
    "Our project did not require any additional purchases than what we were already provided with for the lab work of the course. The cost of these components is as follows:\n",
    "\n",
    "- Big Board: \\$10\n",
    "- PIC32MX250F128B: \\$5\n",
    "- I/O expander: \\$5\n",
    "- TFT LCD: \\$10\n",
    "- Jumper cables: \\$1\n",
    "- MCP4822: \\$3.30\n",
    "\n",
    "Total: \\$34.30"
   ]
  },
  {
   "cell_type": "markdown",
   "id": "fitted-hometown",
   "metadata": {},
   "source": [
    "### Appendix E: Distribution of Work\n",
    "\n",
    "We both live in the same apartment, so we were able to work together in person and contribute equally to all sections of the project. Instead of splitting the project into tasks for each of us to work on separately, we chose to brainstorm and code the project together."
   ]
  },
  {
   "cell_type": "markdown",
   "id": "specific-dollar",
   "metadata": {},
   "source": [
    "### Appendix F: References\n",
    "\n",
    "- [PIC32 Documentation](https://people.ece.cornell.edu/land/courses/ece4760/PIC32/Microchip_stuff/2xx_datasheet.pdf)\n",
    "- [Development Board](https://people.ece.cornell.edu/land/courses/ece4760/PIC32/target_board.html)\n",
    "- [Protothreads](https://people.ece.cornell.edu/land/courses/ece4760/PIC32/index_Protothreads.html)\n",
    "- [Dino Game](https://dino-chrome.com/)\n",
    "- [LCD Image Converter](https://lcd-image-converter.riuson.com/en/about/)\n",
    "\n",
    "---"
   ]
  }
 ],
 "metadata": {
  "kernelspec": {
   "display_name": "Python 3",
   "language": "python",
   "name": "python3"
  },
  "language_info": {
   "codemirror_mode": {
    "name": "ipython",
    "version": 3
   },
   "file_extension": ".py",
   "mimetype": "text/x-python",
   "name": "python",
   "nbconvert_exporter": "python",
   "pygments_lexer": "ipython3",
   "version": "3.9.2"
  }
 },
 "nbformat": 4,
 "nbformat_minor": 5
}
